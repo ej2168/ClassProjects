{
 "cells": [
  {
   "cell_type": "markdown",
   "metadata": {},
   "source": [
    "<img src=\"http://imgur.com/1ZcRyrc.png\" style=\"float: left; margin: 20px; height: 55px\">\n",
    "\n",
    "# Project 1: Python Coding Exercises\n",
    "\n",
    "_Authors: Joseph Nelson (DC) _\n",
    "\n",
    "---"
   ]
  },
  {
   "cell_type": "markdown",
   "metadata": {},
   "source": [
    "The following code challenges are drawn from common exercises used in technical interviews.\n",
    "\n",
    "Please note that there may be several ways to approach each challenge. If you get stuck, try mapping out your approach in pseudocode first. Finally, while solutions to problems like these may be found online, remember that if you copy/paste code that you can't explain, you'll be missing out on the point of the project. The only way to truly learn a new skill is through practice, trial, and error - we can only help you improve by understanding where you are having trouble."
   ]
  },
  {
   "cell_type": "markdown",
   "metadata": {},
   "source": [
    "### Challenge 1: Largest Palindrome\n",
    "A palindromic number reads the same both ways. For example, 1234321 is a palindrome. The largest palindrome made from the product of two two-digit numbers is 9009 = 91 × 99. Find the largest palindrome made from the product of two three-digit numbers. Afterward, write a brief explanation walking through your code's logic in markdown."
   ]
  },
  {
   "cell_type": "code",
   "execution_count": 30,
   "metadata": {},
   "outputs": [
    {
     "name": "stdout",
     "output_type": "stream",
     "text": [
      "906609\n"
     ]
    }
   ],
   "source": [
    "def Palindrome(n):\n",
    "    s = str(n)\n",
    "    reverseString = \"\"\n",
    "    \n",
    "    for i in range (len(s) - 1, -1, -1):\n",
    "        reverseString += s[i]\n",
    "\n",
    "    return reverseString == s\n",
    "\n",
    "def MaxProductPalindrome():\n",
    "    palindrome = -1\n",
    "    \n",
    "    for i in range (999, 99, -1):\n",
    "        for j in range (i, 99, -1):\n",
    "            \n",
    "            if Palindrome(i * j) and i * j > palindrome:\n",
    "                palindrome = i * j\n",
    "    return palindrome;\n",
    "\n",
    "print (MaxProductPalindrome())\n",
    "   \n"
   ]
  },
  {
   "cell_type": "raw",
   "metadata": {},
   "source": [
    "Define palindrome function: string must equal it's reverse; define integer length, flip it to equal reverse string; return if the reverse equals the string\n",
    "Execute the loop and produce the max product: set range to iterate over sequence of all three digit numbers. \n",
    "Returns if the product is 1) a palindrome and 2) greater than the last recorded palindrome. \n"
   ]
  },
  {
   "cell_type": "markdown",
   "metadata": {},
   "source": [
    "\n",
    "### Challenge 2: Summation of Primes\n",
    "The sum of the primes below 10 is 2 + 3 + 5 + 7 = 17. Find the sum of all the primes below 2,000. Afterward, write a brief explanation walking through your code's logic in markdown."
   ]
  },
  {
   "cell_type": "code",
   "execution_count": 13,
   "metadata": {},
   "outputs": [
    {
     "name": "stdout",
     "output_type": "stream",
     "text": [
      "277050\n"
     ]
    }
   ],
   "source": [
    "# write prime numbers function \n",
    "\n",
    "def isPrime(n):\n",
    "    if n < 2:\n",
    "        return False\n",
    "    for i in range(2, int(n**0.5) + 1):\n",
    "        if n % i == 0:\n",
    "            return False\n",
    "    return True\n",
    "\n",
    "sum = 0\n",
    "for i in range(2, 2000):\n",
    "    if isPrime(i):\n",
    "        sum += i\n",
    "    \n",
    "print(sum)\n",
    "\n"
   ]
  },
  {
   "cell_type": "markdown",
   "metadata": {},
   "source": [
    "Define function to determine if a number is a prime or not: \n",
    "- 1 is not a prime, so excluded\n",
    "- check if integer is divisible by any number up to the square root of num\n",
    "set range, filter by prime function, and sum the list"
   ]
  },
  {
   "cell_type": "markdown",
   "metadata": {},
   "source": [
    "### Challenge 3: Multiples of 3 and 5\n",
    "If we list all of the natural numbers below 10 that are multiples of 3 or 5, we get 3, 5, 6, and 9. The sum of these multiples is 23. Find the sum of all the multiples of 3 or 5 below 1,000. Afterward, write a brief explanation walking through your code's logic in markdown."
   ]
  },
  {
   "cell_type": "code",
   "execution_count": 32,
   "metadata": {},
   "outputs": [
    {
     "name": "stdout",
     "output_type": "stream",
     "text": [
      "233168\n"
     ]
    }
   ],
   "source": [
    "sum = 0\n",
    "threeMultiple = False\n",
    "fiveMultiple = False\n",
    "\n",
    "for i in range (3, 1000):\n",
    "\n",
    "    threeMultiple = i % 3 == 0\n",
    "    fiveMultiple = i % 5 == 0\n",
    "    \n",
    "    if (threeMultiple or fiveMultiple):\n",
    "        sum += i\n",
    "\n",
    "print (sum)"
   ]
  },
  {
   "cell_type": "markdown",
   "metadata": {},
   "source": [
    "Set base variable. \n",
    "Define variables for multiples of 3 and 5. \n",
    "Set range with a max of 1,000. Create loop to calculate number in range is multiple of 3 or 5; if so, add to sum (0). \n",
    "Sum total of numbers added to sum. "
   ]
  },
  {
   "cell_type": "markdown",
   "metadata": {},
   "source": [
    "### Challenge 4: String Compressor\n",
    "Implement a method to perform basic string compression using the counts of repeated characters. (This is called run-length encoding.) For example, the string \"aabcccccaaa\" would become a2b1c5a3. If the “compressed” string would not become smaller than the original string, your method should return the original string. You can assume the string has only uppercase and lowercase letters (a–z). Specify whether your solution is case sensitive or case insensitive and what you would need to change to make it the other. Afterward, write a brief explanation walking through your code's logic in markdown."
   ]
  },
  {
   "cell_type": "code",
   "execution_count": 38,
   "metadata": {},
   "outputs": [
    {
     "data": {
      "text/plain": [
       "'a2bc5a3'"
      ]
     },
     "execution_count": 38,
     "metadata": {},
     "output_type": "execute_result"
    }
   ],
   "source": [
    "def compress(string):\n",
    "\n",
    "    var = \"\"\n",
    "\n",
    "    count = 1\n",
    "\n",
    "    var += string[0]\n",
    "\n",
    "    for i in range(len(string)-1):\n",
    "        if(string[i] == string[i+1]):\n",
    "            count+=1\n",
    "        else:\n",
    "            if(count > 1):\n",
    "                var += str(count)\n",
    "            var += string[i+1]\n",
    "            count = 1\n",
    "    if(count > 1):\n",
    "        var += str(count)\n",
    "    return var\n",
    "\n",
    "compress(\"aabcccccaaa\")"
   ]
  },
  {
   "cell_type": "markdown",
   "metadata": {},
   "source": [
    "Define function to compress and return. \n",
    "Set open variable to return results and default count of 1. \n",
    "Create loop to search string, count string characters, add 1 if no repeats, otherwise remain as is. \n",
    "Not case sensitive. Would add .lower or .upper to if/else loop to adjust. "
   ]
  },
  {
   "cell_type": "markdown",
   "metadata": {},
   "source": [
    "### Challenge 5: FizzBuzz\n",
    "\n",
    "Write a program that prints all of the numbers from 1 to 100. For multiples of 3, instead of the number, print \"Fizz;\" for multiples of 5, print \"Buzz.\" For numbers that are multiples of both 3 and 5, print \"FizzBuzz.\" Afterward, write a brief explanation walking through your code's logic in markdown."
   ]
  },
  {
   "cell_type": "code",
   "execution_count": 34,
   "metadata": {},
   "outputs": [
    {
     "name": "stdout",
     "output_type": "stream",
     "text": [
      "Fizz\n",
      "Buzz\n",
      "Fizz\n",
      "Fizz\n",
      "Buzz\n",
      "Fizz\n",
      "FizzBuzz\n",
      "Fizz\n",
      "Buzz\n",
      "Fizz\n",
      "Fizz\n",
      "Buzz\n",
      "Fizz\n",
      "FizzBuzz\n",
      "Fizz\n",
      "Buzz\n",
      "Fizz\n",
      "Fizz\n",
      "Buzz\n",
      "Fizz\n",
      "FizzBuzz\n",
      "Fizz\n",
      "Buzz\n",
      "Fizz\n",
      "Fizz\n",
      "Buzz\n",
      "Fizz\n",
      "FizzBuzz\n",
      "Fizz\n",
      "Buzz\n",
      "Fizz\n",
      "Fizz\n",
      "Buzz\n",
      "Fizz\n",
      "FizzBuzz\n",
      "Fizz\n",
      "Buzz\n",
      "Fizz\n",
      "Fizz\n",
      "Buzz\n",
      "Fizz\n",
      "FizzBuzz\n",
      "Fizz\n",
      "Buzz\n",
      "Fizz\n",
      "Fizz\n"
     ]
    }
   ],
   "source": [
    "for num in range(1, 100):\n",
    "    if num % 3 == 0 and num % 5 == 0:\n",
    "        print('FizzBuzz')\n",
    "    elif num % 3 == 0:\n",
    "        print('Fizz')\n",
    "    elif num % 5 == 0:\n",
    "        print('Buzz')\n",
    "    \n",
    "    "
   ]
  },
  {
   "cell_type": "markdown",
   "metadata": {},
   "source": [
    "Set range of 1 to 100. \n",
    "Create if/else statements set to print based on output. \n",
    "Did not add an else to print the number if it didn't meet paramaters, as not specified in the question. "
   ]
  }
 ],
 "metadata": {
  "anaconda-cloud": {},
  "kernelspec": {
   "display_name": "Python 3",
   "language": "python",
   "name": "python3"
  },
  "language_info": {
   "codemirror_mode": {
    "name": "ipython",
    "version": 3
   },
   "file_extension": ".py",
   "mimetype": "text/x-python",
   "name": "python",
   "nbconvert_exporter": "python",
   "pygments_lexer": "ipython3",
   "version": "3.6.5"
  }
 },
 "nbformat": 4,
 "nbformat_minor": 2
}
